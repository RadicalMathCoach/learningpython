{
 "cells": [
  {
   "cell_type": "markdown",
   "id": "be8d6e9a",
   "metadata": {},
   "source": [
    "## Learning Python\n",
    "# This is interesting"
   ]
  },
  {
   "cell_type": "code",
   "execution_count": null,
   "id": "2c7d1a59",
   "metadata": {},
   "outputs": [],
   "source": []
  }
 ],
 "metadata": {
  "kernelspec": {
   "display_name": "Python 3 (ipykernel)",
   "language": "python",
   "name": "python3"
  },
  "language_info": {
   "codemirror_mode": {
    "name": "ipython",
    "version": 3
   },
   "file_extension": ".py",
   "mimetype": "text/x-python",
   "name": "python",
   "nbconvert_exporter": "python",
   "pygments_lexer": "ipython3",
   "version": "3.10.9"
  }
 },
 "nbformat": 4,
 "nbformat_minor": 5
}
